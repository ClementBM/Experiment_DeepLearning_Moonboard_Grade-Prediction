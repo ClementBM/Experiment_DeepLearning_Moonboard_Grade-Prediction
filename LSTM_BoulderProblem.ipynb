{
  "nbformat": 4,
  "nbformat_minor": 0,
  "metadata": {
    "colab": {
      "name": "LSTM BoulderProblem.ipynb",
      "version": "0.3.2",
      "provenance": [],
      "collapsed_sections": [],
      "include_colab_link": true
    },
    "kernelspec": {
      "name": "python3",
      "display_name": "Python 3"
    }
  },
  "cells": [
    {
      "cell_type": "markdown",
      "metadata": {
        "id": "view-in-github",
        "colab_type": "text"
      },
      "source": [
        "<a href=\"https://colab.research.google.com/github/ClementBM/Experiment_DeepLearning_Moonboard_Grade-Prediction/blob/master/LSTM_BoulderProblem.ipynb\" target=\"_parent\"><img src=\"https://colab.research.google.com/assets/colab-badge.svg\" alt=\"Open In Colab\"/></a>"
      ]
    },
    {
      "metadata": {
        "id": "VpXNMx22PrXL",
        "colab_type": "code",
        "colab": {}
      },
      "cell_type": "code",
      "source": [
        "# LSTM Model\n",
        "from sklearn.model_selection import train_test_split\n",
        "from sklearn.metrics import mean_squared_error\n",
        "from sklearn.preprocessing import normalize\n",
        "from keras.models import Sequential\n",
        "from keras.layers.core import Dense, Activation, Dropout\n",
        "from keras.layers.recurrent import LSTM\n",
        "from tensorflow.python.keras.preprocessing.sequence import pad_sequences"
      ],
      "execution_count": 0,
      "outputs": []
    },
    {
      "metadata": {
        "id": "tGdai7i6Sdip",
        "colab_type": "code",
        "colab": {}
      },
      "cell_type": "code",
      "source": [
        "from pandas import read_csv\n",
        "import json\n",
        "from matplotlib import pyplot\n",
        "import math\n",
        "import os\n",
        "from os import listdir\n",
        "from os.path import isfile, join\n",
        "import numpy as np"
      ],
      "execution_count": 0,
      "outputs": []
    },
    {
      "metadata": {
        "id": "dSNQ8Xt2Xddl",
        "colab_type": "code",
        "colab": {}
      },
      "cell_type": "code",
      "source": [
        "# Prepare data\n",
        "abcIndex = ['A', 'B', 'C', 'D', 'E', 'F', 'G', 'H', 'I', 'J', 'K']\n",
        "\n",
        "gradeIndex = ['6A+', '6B', '6B+', '6C', '6C+', '7A', '7A+', '7B', '7B+', '7C', '7C+']\n",
        "\n",
        "\n",
        "dataFiles = [f for f in listdir(\"sample_data\") if isfile(join(\"sample_data\", f))]\n",
        "\n",
        "boulderProblemsMoves = []\n",
        "bGrades = []\n",
        "  \n",
        "for dataFile in dataFiles:\n",
        "  bProblemsPath = os.path.join(\"sample_data\", dataFile)\n",
        "  bGrade = dataFile.replace(\".json\",\"\")\n",
        "  bGradeIndex = gradeIndex.index(bGrade)\n",
        "  gradeHotOne = [0] * len(gradeIndex)\n",
        "  gradeHotOne[bGradeIndex] = 1\n",
        "  \n",
        "  with open(bProblemsPath) as jsonData:\n",
        "      jsonRaw = jsonData.read()\n",
        "      boulderProblems5 = json.loads(jsonRaw)\n",
        "\n",
        "  exCount = len(boulderProblems5['Data'])\n",
        "\n",
        "  eobVect = [0] * 199\n",
        "  eobVect[198] = 1\n",
        "\n",
        "  for i in range(0, exCount):\n",
        "    moves = boulderProblems5['Data'][i]['Moves']\n",
        "    moveCount = len(moves)\n",
        "    boulderProblemMoves = []\n",
        "    \n",
        "    holdLocations = boulderProblems5['Data'][i]['Locations']\n",
        "    holdCount = len(holdLocations)\n",
        "    distances = []\n",
        "    \n",
        "    if(moveCount != holdCount):\n",
        "      print(\"moveCount != holdCount\")\n",
        "    \n",
        "    for j in range(0, moveCount):\n",
        "      ## Get Hold Index\n",
        "      hold = moves[j]['Description']\n",
        "      letterIndex = abcIndex.index(hold[0])\n",
        "      number = int(hold[1:])\n",
        "      hotOneVect = [0] * 199 # 199 (distance)\n",
        "      hotOneVect[((letterIndex * 18) + number - 1)] = 1\n",
        "      boulderProblemMoves.append(hotOneVect)\n",
        "      \n",
        "      ## Get distance\n",
        "      currentHoldLocation = holdLocations[j]\n",
        "      if(j == 0):\n",
        "        distances.append([0, 0, 0])\n",
        "      else:\n",
        "        oldHoldLocation = holdLocations[j-1]\n",
        "        xDistance = currentHoldLocation['X'] - oldHoldLocation['X']\n",
        "        yDistance = currentHoldLocation['Y'] - oldHoldLocation['Y']\n",
        "        distance = math.sqrt(xDistance**2 + yDistance**2)\n",
        "        distances.append([xDistance**2, yDistance**2, distance**2])\n",
        "      ##\n",
        "      \n",
        "    # Add End Of Boulder vector\n",
        "    boulderProblemMoves.append(eobVect)\n",
        "    distances.append([0, 0, 0])\n",
        "    \n",
        "    # Only Distances\n",
        "    # boulderProblemsMoves.append(distances)\n",
        "\n",
        "    # Distances and Holds\n",
        "    distancesFlat = [y for x in distances for y in x]\n",
        "    distancesFlatMax = max(distancesFlat)\n",
        "    #print(distancesFlatMax)\n",
        "    distancesNorm = np.log(np.add(np.abs(distances), 1)) # np.divide(distances, 500)\n",
        "    boulderProblemsMoves.append(np.concatenate((boulderProblemMoves, np.divide(distancesNorm, 5)), axis=1))\n",
        "\n",
        "    # Only holds\n",
        "    # boulderProblemsMoves.append(boulderProblemMoves)\n",
        "\n",
        "    # y\n",
        "    bGrades.append(bGradeIndex)\n",
        "\n",
        "    # Shapes"
      ],
      "execution_count": 0,
      "outputs": []
    },
    {
      "metadata": {
        "id": "xUEp3_epfPGM",
        "colab_type": "code",
        "colab": {}
      },
      "cell_type": "code",
      "source": [
        "# print(bGrades)\n",
        "# print(boulderProblemsMoves)\n",
        "print(len(boulderProblemsMoves))\n",
        "\n",
        "max_length = max([len(s) for s in boulderProblemsMoves])\n",
        "print(max_length)\n",
        "\n",
        "X = np.array(boulderProblemsMoves)\n",
        "Xpad = pad_sequences(X, maxlen=max_length, padding='post')\n",
        "\n",
        "print(Xpad.shape)\n",
        "\n",
        "y = np.array(bGrades)"
      ],
      "execution_count": 0,
      "outputs": []
    },
    {
      "metadata": {
        "id": "JN-FeQ41QxXf",
        "colab_type": "code",
        "colab": {}
      },
      "cell_type": "code",
      "source": [
        "# split into train and test sets\n",
        "# Xpad = np.reshape(Xpad,(Xpad.shape[0],Xpad.shape[1],1))\n",
        "RANDOM_SEED = 5\n",
        "X_train, X_test, y_train, y_test = train_test_split(Xpad, y, test_size=0.2, random_state=RANDOM_SEED)\n",
        "\n",
        "print(\"X_train\")\n",
        "print(X_train.shape)\n",
        "print(\"X_test\")\n",
        "print(X_test.shape)\n",
        "print(y_test)"
      ],
      "execution_count": 0,
      "outputs": []
    },
    {
      "metadata": {
        "id": "Xs-z8-qWQ24m",
        "colab_type": "code",
        "colab": {}
      },
      "cell_type": "code",
      "source": [
        "print(X_train.shape[1])\n",
        "print(X_train.shape[2])\n",
        "# Model\n",
        "model = Sequential()\n",
        "# first hidden layer\n",
        "model.add(LSTM(input_shape=(X_train.shape[1], X_train.shape[2]), units=30, return_sequences=True))\n",
        "model.add(Dropout(0.2))\n",
        "# second hidden layer\n",
        "model.add(LSTM(20, return_sequences=False))\n",
        "model.add(Dropout(0.2))\n",
        "# 1 neuron in the output layer\n",
        "model.add(Dense(10))\n",
        "model.add(Dense(1))\n",
        "model.add(Activation(\"linear\"))\n",
        "model.compile(loss='mae', optimizer='adam')"
      ],
      "execution_count": 0,
      "outputs": []
    },
    {
      "metadata": {
        "id": "xPgwCubZQ4iT",
        "colab_type": "code",
        "colab": {}
      },
      "cell_type": "code",
      "source": [
        "# fit network\n",
        "history = model.fit(X_train, \n",
        "                    y_train, \n",
        "                    epochs=50,\n",
        "                    validation_data=(X_test, y_test),\n",
        "                    batch_size=64,\n",
        "                    verbose=2, \n",
        "                    shuffle=False)\n",
        "model.summary()"
      ],
      "execution_count": 0,
      "outputs": []
    },
    {
      "metadata": {
        "id": "0LEgvjZFSVlm",
        "colab_type": "code",
        "colab": {}
      },
      "cell_type": "code",
      "source": [
        "# plot history\n",
        "pyplot.plot(history.history['loss'], label='train')\n",
        "pyplot.plot(history.history['val_loss'], label='test')\n",
        "pyplot.legend()\n",
        "pyplot.show()"
      ],
      "execution_count": 0,
      "outputs": []
    },
    {
      "metadata": {
        "id": "b0W3aUL1fIJK",
        "colab_type": "code",
        "colab": {}
      },
      "cell_type": "code",
      "source": [
        "# make a prediction\n",
        "predictions = model.predict(X_test)\n",
        "meanAbsError = 0\n",
        "maeDifferences = []\n",
        "\n",
        "for i in range(0, len(predictions)):\n",
        "  prediction = predictions[i][0]\n",
        "  roundedPrediction = int(round(prediction))\n",
        "  diff = roundedPrediction - y_test[i]\n",
        "  meanAbsError += abs(diff)\n",
        "  maeDifferences.append(abs(diff))\n",
        "  print('Predict {} but was {} / {} round to {} expect {} / diff {}'.format(gradeIndex[roundedPrediction], gradeIndex[y_test[i]], prediction, roundedPrediction, y_test[i], diff))\n",
        "  print(\"###\")\n",
        "  \n",
        "print(\"MAE\")\n",
        "print(meanAbsError / len(predictions))\n",
        "\n",
        "maeDifferences = np.array(maeDifferences)\n",
        "hist, bins = np.histogram(maeDifferences)\n",
        "\n",
        "pyplot.bar(bins[:-1], hist.astype(np.float32) / hist.sum(), width=(bins[1]-bins[0]))\n",
        "pyplot.plot()\n",
        "\n",
        "print(maeDifferences)"
      ],
      "execution_count": 0,
      "outputs": []
    }
  ]
}